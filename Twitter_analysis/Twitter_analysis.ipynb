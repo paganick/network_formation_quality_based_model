{
 "cells": [
  {
   "cell_type": "markdown",
   "metadata": {},
   "source": [
    "©2020-2021 ETH Zurich, Pagan Nicolò; D-ITET; Automatic Control Lab\n",
    "\n",
    "This program is free software: you can redistribute it and/or modify it under the terms of the GNU General Public License as published by the Free Software Foundation, either version 3 of the License, or (at your option) any later version.\n",
    "\n",
    "This program is distributed in the hope that it will be useful, but WITHOUT ANY WARRANTY; without even the implied warranty of MERCHANTABILITY or FITNESS FOR A PARTICULAR PURPOSE.  See the GNU General Public License for more details.\n",
    "\n",
    "You should have received a copy of the GNU General Public License along with this program.  If not, see <https://www.gnu.org/licenses/>."
   ]
  },
  {
   "cell_type": "code",
   "execution_count": null,
   "metadata": {},
   "outputs": [],
   "source": [
    "import pandas as pd\n",
    "import matplotlib.pyplot as plt\n",
    "import numpy as np\n",
    "import random\n",
    "import tikzplotlib as tikz\n",
    "from scipy import stats\n",
    "from scipy.stats import ks_2samp\n",
    "\n",
    "plt.rcParams['figure.figsize'] = [10,7]\n",
    "random.seed(0)"
   ]
  },
  {
   "cell_type": "code",
   "execution_count": null,
   "metadata": {},
   "outputs": [],
   "source": [
    "# The function returns the unique element of a list.\n",
    "def unique(list1): \n",
    "    x = np.array(list1) \n",
    "    x = (np.unique(x))\n",
    "    return x.tolist()\n",
    "\n",
    "# From the file containing the edges list, the function imports the list of edges and finds the set of nodes.\n",
    "def import_nodes(filename):\n",
    "    edges = pd.read_csv(filename)\n",
    "    nodes = edges['Source'].to_list()\n",
    "    nodes = [nodes, edges['Target'].to_list()]\n",
    "    nodes = unique(nodes)\n",
    "    return nodes, edges\n",
    "\n",
    "# From the list of edges and nodes, the function creates a dataframe in which, each row is associated with a node.\n",
    "# The row contains the node id, its in-degree, and its ranking (based on the in-degree).\n",
    "# Rows are ordered in decreasing in-degree, and increasing ranking.\n",
    "def create_nodes_df(nodes, edges):\n",
    "    indegree = [0]*len(nodes)\n",
    "    outdegree = [0]*len(nodes)\n",
    "    data = {'id':nodes, 'indegree':   indegree, 'outdegree': outdegree}\n",
    "    nodes_df = pd.DataFrame(data)\n",
    "    edges_list = edges.values.tolist()\n",
    "    for edge in edges_list:\n",
    "        nodes_df.loc[nodes_df['id']==edge[1], 'indegree'] += 1\n",
    "        nodes_df.loc[nodes_df['id']==edge[0], 'outdegree'] += 1\n",
    "    nodes_df.sort_values(by=['indegree'], inplace=True, ascending=False)\n",
    "    \n",
    "    rank_array = np.linspace(1, len(nodes), len(nodes), dtype=int)\n",
    "    rank_list = rank_array.tolist()\n",
    "    nodes_df['rank']=rank_list\n",
    "    \n",
    "    return nodes_df"
   ]
  },
  {
   "cell_type": "code",
   "execution_count": null,
   "metadata": {},
   "outputs": [],
   "source": [
    "[nodes, edges] = import_nodes('graph.csv') # Note that the graph file must be in the same folder, or the path must be specified\n",
    "nodes_df = create_nodes_df(nodes, edges)"
   ]
  },
  {
   "cell_type": "markdown",
   "metadata": {},
   "source": [
    "Using the edge list, we create a data-frame (friends_df) in which, for each user id, we store the rank of the userid's followee, sequentially ordered (the first one is the oldest followee)."
   ]
  },
  {
   "cell_type": "code",
   "execution_count": null,
   "metadata": {},
   "outputs": [],
   "source": [
    "friends_df = pd.DataFrame(columns=['id', 'friends'])\n",
    "node = edges['Source'][0]\n",
    "friends = []\n",
    "for index, edge in edges.iterrows():\n",
    "    if (node != edge['Source']):\n",
    "        friends_df = friends_df.append({'id' : node , 'friends' : friends}, ignore_index=True)\n",
    "        node = edge['Source']\n",
    "        friends = []\n",
    "    friend_rank = nodes_df.loc[nodes_df['id']==edge['Target']]\n",
    "    friends.append(friend_rank['rank'].values[0]) "
   ]
  },
  {
   "cell_type": "markdown",
   "metadata": {},
   "source": [
    "# Computing violation with respect to the median\n",
    "The following code computes, for each node (with at least two followees), the probability p_i (as defined in the manuscript), and it stores it in the vector p.\n",
    "To do so, it uses the list of followees, ordered in temporal sequence, as given by the Twitter API.\n",
    "Similarly, it computes the same probability under the null hypothesis, i.e., after reshuffling the list of followees (thus, removing any temporal pattern)."
   ]
  },
  {
   "cell_type": "code",
   "execution_count": null,
   "metadata": {},
   "outputs": [],
   "source": [
    "random.seed(0)\n",
    "p = []\n",
    "p_null_hypothesis = []\n",
    "for node in friends_df['id']:\n",
    "    friends = (friends_df.loc[friends_df['id'] == node, 'friends'].values[0]).copy()\n",
    "    friends_null_hypothesis = random.sample(friends, len(friends))\n",
    "    t = np.linspace(1, len(friends), len(friends), dtype=int)\n",
    "    series  = {'time': t, 'friends': friends}\n",
    "    violations = np.NaN\n",
    "    violations_null_hypothesis = np.NaN\n",
    "    median = []\n",
    "    median.append(friends[0])\n",
    "    median_null_hypothesis = []\n",
    "    median_null_hypothesis.append(friends_null_hypothesis[0])\n",
    "    if (len(friends)>1):\n",
    "        violations = 0\n",
    "        violations_null_hypothesis = 0\n",
    "    for i in range(1, len(friends)):\n",
    "        if (friends[i]>median[-1]):\n",
    "            violations+=1\n",
    "        if (friends_null_hypothesis[i]>median_null_hypothesis[-1]):\n",
    "            violations_null_hypothesis+=1\n",
    "        median.append(np.median(friends[0:i+1]))\n",
    "        median_null_hypothesis.append(np.median(friends_null_hypothesis[0:i+1]))\n",
    "    if (len(friends)>1):\n",
    "        p.append(violations/(len(friends)-1))\n",
    "        p_null_hypothesis.append(violations_null_hypothesis/(len(friends)-1))\n",
    "    else:\n",
    "        p.append(np.NaN)\n",
    "        p_null_hypothesis.append(np.NaN)\n",
    "plt.hist(p, bins=19, alpha=0.5, label='Data')\n",
    "plt.hist(p_null_hypothesis, bins=19, alpha = 0.5, label='Null Hypotesis')\n",
    "plt.xlim((0,1))\n",
    "plt.xlabel('Median violation probability')\n",
    "plt.ylabel('frequency')\n",
    "plt.title('Median rule violations')\n",
    "plt.legend(loc=\"upper right\")\n",
    "tikz.save(\"median_violation_histogram.tikz\")\n",
    "print('Data.')\n",
    "print('Size:', np.count_nonzero(~np.isnan(p)))\n",
    "print('Mean:', np.nanmean(p))\n",
    "print('Median:', np.nanmedian(p))\n",
    "print('Std-dev:', np.nanstd(p))\n",
    "print('')\n",
    "print('0-hypotesis:')\n",
    "print('Mean:', np.nanmean(p_null_hypothesis))\n",
    "print('Median:', np.nanmedian(p_null_hypothesis))\n",
    "print('Std-dev:', np.nanstd(p_null_hypothesis))\n",
    "print('')\n",
    "print('Kolmogorov-Smirnov tests, two samples')\n",
    "ks_2samp(p, p_null_hypothesis)"
   ]
  },
  {
   "cell_type": "code",
   "execution_count": null,
   "metadata": {},
   "outputs": [],
   "source": []
  }
 ],
 "metadata": {
  "kernelspec": {
   "display_name": "Python 3",
   "language": "python",
   "name": "python3"
  },
  "language_info": {
   "codemirror_mode": {
    "name": "ipython",
    "version": 3
   },
   "file_extension": ".py",
   "mimetype": "text/x-python",
   "name": "python",
   "nbconvert_exporter": "python",
   "pygments_lexer": "ipython3",
   "version": "3.7.4"
  }
 },
 "nbformat": 4,
 "nbformat_minor": 4
}
