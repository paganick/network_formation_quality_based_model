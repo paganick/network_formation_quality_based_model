{
 "cells": [
  {
   "cell_type": "markdown",
   "metadata": {},
   "source": [
    "©2020-2021 ETH Zurich, Pagan Nicolò; D-ITET; Automatic Control Lab\n",
    "\n",
    "This program is free software: you can redistribute it and/or modify it under the terms of the GNU General Public License as published by the Free Software Foundation, either version 3 of the License, or (at your option) any later version.\n",
    "\n",
    "This program is distributed in the hope that it will be useful, but WITHOUT ANY WARRANTY; without even the implied warranty of MERCHANTABILITY or FITNESS FOR A PARTICULAR PURPOSE.  See the GNU General Public License for more details.\n",
    "\n",
    "You should have received a copy of the GNU General Public License along with this program.  If not, see <https://www.gnu.org/licenses/>."
   ]
  },
  {
   "cell_type": "code",
   "execution_count": null,
   "metadata": {},
   "outputs": [],
   "source": [
    "import matplotlib.pyplot as plt\n",
    "import os\n",
    "from pytictoc import TicToc\n",
    "import tikzplotlib\n",
    "\n",
    "from functions import *\n",
    "from simulation import Simulation, Simulation_parameters\n",
    "from model import Model, Model_parameters"
   ]
  },
  {
   "cell_type": "markdown",
   "metadata": {},
   "source": [
    "## Theoretical In-degree Analysis\n",
    "The following block provides the analysis of the theoretical indegree. First, we compute the theoretical in-degree probability density functions (one per each agent), after T=200 time-steps, and at equilibrium. The theoretical results are those derived in Theorem 2 and Corollary 1 in the manuscript.\n",
    "For each agent, we also compute the expected in-degree."
   ]
  },
  {
   "cell_type": "code",
   "execution_count": null,
   "metadata": {},
   "outputs": [],
   "source": [
    "tt=TicToc()\n",
    "tt.tic()\n",
    "plt.rcParams[\"figure.figsize\"]=[10,7]\n",
    "n=1000\n",
    "T=200\n",
    "folder = 'theoretical_indegree_analysis_1000/'\n",
    "if not os.path.exists(folder):\n",
    "    os.makedirs(folder)\n",
    "save_results = True\n",
    "[indegree_table, indegree_table_inf] = indegree_prob_table(n,T)\n",
    "expected_indegree = compute_expected_indegree(indegree_table)\n",
    "expected_indegree_inf = compute_expected_indegree(indegree_table_inf)\n",
    "tt.toc()"
   ]
  },
  {
   "cell_type": "markdown",
   "metadata": {},
   "source": [
    "In the following, we plot the in-degree probability density functions (and the expected value) as a function of the quality rank (as shown in Fig. 3 in the manuscript). The plots refer to T=200 time-steps, and at equilibrium. We also plot the Zipf's law, and we provide a linear-fit (in log-log scale) of the expected in-degree. "
   ]
  },
  {
   "cell_type": "code",
   "execution_count": null,
   "metadata": {},
   "outputs": [],
   "source": [
    "plot_indegree_probability(indegree_table, expected_indegree, n, str(T), save_results, folder)\n",
    "plot_indegree_probability(indegree_table_inf, expected_indegree_inf, n, 'equilibrium', save_results, folder)"
   ]
  },
  {
   "cell_type": "markdown",
   "metadata": {},
   "source": [
    "Finally, we compute the theoretical in-degree probability density function (as shown in Fig. 5 in grey), and complementary cumulative distribution function (as shown in Supplementary Fig. 13, in blue). The plots refer to the equilibrium case."
   ]
  },
  {
   "cell_type": "code",
   "execution_count": null,
   "metadata": {},
   "outputs": [],
   "source": [
    "plot_indegree_pdf(indegree_table_inf, n, save_results, folder)\n",
    "plot_indegree_ccdf(indegree_table_inf, n, save_results, folder)"
   ]
  },
  {
   "cell_type": "code",
   "execution_count": null,
   "metadata": {},
   "outputs": [],
   "source": []
  }
 ],
 "metadata": {
  "kernelspec": {
   "display_name": "Python 3",
   "language": "python",
   "name": "python3"
  },
  "language_info": {
   "codemirror_mode": {
    "name": "ipython",
    "version": 3
   },
   "file_extension": ".py",
   "mimetype": "text/x-python",
   "name": "python",
   "nbconvert_exporter": "python",
   "pygments_lexer": "ipython3",
   "version": "3.7.4"
  }
 },
 "nbformat": 4,
 "nbformat_minor": 4
}
