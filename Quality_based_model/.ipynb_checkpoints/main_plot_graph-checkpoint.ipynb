{
 "cells": [
  {
   "cell_type": "markdown",
   "metadata": {},
   "source": [
    "©2020-2021 ETH Zurich, Pagan Nicolò; D-ITET; Automatic Control Lab\n",
    "\n",
    "This program is free software: you can redistribute it and/or modify it under the terms of the GNU General Public License as published by the Free Software Foundation, either version 3 of the License, or (at your option) any later version.\n",
    "\n",
    "This program is distributed in the hope that it will be useful, but WITHOUT ANY WARRANTY; without even the implied warranty of MERCHANTABILITY or FITNESS FOR A PARTICULAR PURPOSE.  See the GNU General Public License for more details.\n",
    "\n",
    "You should have received a copy of the GNU General Public License along with this program.  If not, see <https://www.gnu.org/licenses/>."
   ]
  },
  {
   "cell_type": "code",
   "execution_count": null,
   "metadata": {},
   "outputs": [],
   "source": [
    "import os\n",
    "from functions import *\n",
    "import matplotlib.pyplot as plt\n",
    "\n",
    "from simulation import Simulation, Simulation_parameters\n",
    "from model import Model, Model_parameters"
   ]
  },
  {
   "cell_type": "markdown",
   "metadata": {},
   "source": [
    "## Plot graph"
   ]
  },
  {
   "cell_type": "code",
   "execution_count": null,
   "metadata": {},
   "outputs": [],
   "source": [
    "# in case this creates problems, make sure using:\n",
    "# - python 3.7\n",
    "# - networkx 2.5\n",
    "# - decorator 4.0.3\n",
    "np.random.seed(0)\n",
    "\n",
    "plt.rcParams[\"figure.figsize\"]=[30,15]\n",
    "N = 100\n",
    "T = np.NaN\n",
    "pPA = 0.0\n",
    "speed_up = True\n",
    "simulation_verbose = True\n",
    "simulation_parameters = Simulation_parameters(T, pPA, speed_up, simulation_verbose)\n",
    "folder = 'graph_tests/'\n",
    "if not os.path.exists(folder):\n",
    "                os.makedirs(folder)\n",
    "\n",
    "simulation = Simulation(N, simulation_parameters)\n",
    "simulation.run()\n",
    "simulation.plot_graph()\n",
    "simulation.save_graph(folder)"
   ]
  },
  {
   "cell_type": "code",
   "execution_count": null,
   "metadata": {},
   "outputs": [],
   "source": [
    "# in case this creates problems, make sure using:\n",
    "# - python 3.8\n",
    "# - networkx 2.5\n",
    "# - decorator 4.0.3\n",
    "np.random.seed(0)\n",
    "\n",
    "plt.rcParams[\"figure.figsize\"]=[30,15]\n",
    "N = 100\n",
    "T = np.NaN\n",
    "pPA = 0.0\n",
    "speed_up = True\n",
    "simulation_verbose = True\n",
    "simulation_parameters = Simulation_parameters(T, pPA, speed_up, simulation_verbose)\n",
    "folder = 'graph_tests2/'\n",
    "if not os.path.exists(folder):\n",
    "                os.makedirs(folder)\n",
    "\n",
    "simulation = Simulation(N, simulation_parameters)\n",
    "simulation.run()\n",
    "simulation.plot_graph()\n",
    "simulation.save_graph(folder)"
   ]
  },
  {
   "cell_type": "code",
   "execution_count": null,
   "metadata": {},
   "outputs": [],
   "source": []
  }
 ],
 "metadata": {
  "kernelspec": {
   "display_name": "Python 3",
   "language": "python",
   "name": "python3"
  },
  "language_info": {
   "codemirror_mode": {
    "name": "ipython",
    "version": 3
   },
   "file_extension": ".py",
   "mimetype": "text/x-python",
   "name": "python",
   "nbconvert_exporter": "python",
   "pygments_lexer": "ipython3",
   "version": "3.7.4"
  }
 },
 "nbformat": 4,
 "nbformat_minor": 4
}
