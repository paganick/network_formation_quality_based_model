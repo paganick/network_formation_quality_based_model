{
 "cells": [
  {
   "cell_type": "markdown",
   "metadata": {},
   "source": [
    "©2020-2021 ETH Zurich, Pagan Nicolò; D-ITET; Automatic Control Lab\n",
    "\n",
    "This program is free software: you can redistribute it and/or modify it under the terms of the GNU General Public License as published by the Free Software Foundation, either version 3 of the License, or (at your option) any later version.\n",
    "\n",
    "This program is distributed in the hope that it will be useful, but WITHOUT ANY WARRANTY; without even the implied warranty of MERCHANTABILITY or FITNESS FOR A PARTICULAR PURPOSE.  See the GNU General Public License for more details.\n",
    "\n",
    "You should have received a copy of the GNU General Public License along with this program.  If not, see <https://www.gnu.org/licenses/>."
   ]
  },
  {
   "cell_type": "code",
   "execution_count": null,
   "metadata": {},
   "outputs": [],
   "source": [
    "import matplotlib.pyplot as plt\n",
    "import os\n",
    "from pytictoc import TicToc\n",
    "import tikzplotlib\n",
    "\n",
    "from functions import *\n",
    "from simulation import Simulation, Simulation_parameters\n",
    "from model import Model, Model_parameters"
   ]
  },
  {
   "cell_type": "markdown",
   "metadata": {},
   "source": [
    "# Time steps Analysis\n",
    "In the following, we provide the code for the time-steps analysis reported in Fig. 1. For different values of the network size N, we run 1000 simulations, and we collect the number of time-steps to reach convergence. For each value of N, we then plot the average value and the std deviation. We also save the information related to the 1st, 2nd, and 3rd quantile of the time-step distribution.\n",
    "We repeat the study with the three different scenarios, first with the uniform meeting process, second with pure preferential attachment, and third with the mixed process."
   ]
  },
  {
   "cell_type": "code",
   "execution_count": null,
   "metadata": {},
   "outputs": [],
   "source": [
    "np.random.seed(0)\n",
    "plt.rcParams[\"figure.figsize\"]=[10,7]\n",
    "tt=TicToc()\n",
    "tt.tic()\n",
    "N = [10, 20, 30, 50, 70, 100, 150, 200, 500, 1000]\n",
    "nsim = 1000\n",
    "save_results = True\n",
    "model_verbose = False\n",
    "model_folder = 'time_step_analysis/'\n",
    "model_parameters = Model_parameters(N, nsim, save_results, model_folder, model_verbose)\n",
    "\n",
    "T = np.NaN\n",
    "pPA = 0.0\n",
    "speed_up = False\n",
    "simulation_verbose = False\n",
    "simulation_parameters = Simulation_parameters(T, pPA, speed_up, simulation_verbose)\n",
    "\n",
    "model = Model(model_parameters, simulation_parameters)\n",
    "model.run()\n",
    "model.time_steps_analysis()\n",
    "tt.toc()"
   ]
  },
  {
   "cell_type": "code",
   "execution_count": null,
   "metadata": {},
   "outputs": [],
   "source": [
    "np.random.seed(0)\n",
    "plt.rcParams[\"figure.figsize\"]=[10,7]\n",
    "tt=TicToc()\n",
    "tt.tic()\n",
    "N = [10, 20, 30, 50, 70, 100, 150, 200, 500, 1000]\n",
    "nsim = 1000\n",
    "save_results = True\n",
    "model_verbose = False\n",
    "model_folder = 'time_step_analysis_PA/'\n",
    "model_parameters = Model_parameters(N, nsim, save_results, model_folder, model_verbose)\n",
    "\n",
    "T = np.NaN\n",
    "pPA = 1.0\n",
    "speed_up = False\n",
    "simulation_verbose = False\n",
    "simulation_parameters = Simulation_parameters(T, pPA, speed_up, simulation_verbose)\n",
    "\n",
    "model = Model(model_parameters, simulation_parameters)\n",
    "model.run()\n",
    "model.time_steps_analysis()\n",
    "tt.toc()"
   ]
  },
  {
   "cell_type": "code",
   "execution_count": null,
   "metadata": {},
   "outputs": [],
   "source": [
    "np.random.seed(0)\n",
    "plt.rcParams[\"figure.figsize\"]=[10,7]\n",
    "tt=TicToc()\n",
    "tt.tic()\n",
    "N = [10, 20, 30, 50, 70, 100, 150, 200, 500, 1000]\n",
    "nsim = 1000\n",
    "save_results = True\n",
    "model_verbose = False\n",
    "model_folder = 'time_step_analysis_half_PA/'\n",
    "model_parameters = Model_parameters(N, nsim, save_results, model_folder, model_verbose)\n",
    "\n",
    "T = np.NaN\n",
    "pPA = 0.5\n",
    "speed_up = False\n",
    "simulation_verbose = False\n",
    "simulation_parameters = Simulation_parameters(T, pPA, speed_up, simulation_verbose)\n",
    "\n",
    "model = Model(model_parameters, simulation_parameters)\n",
    "model.run()\n",
    "model.time_steps_analysis()\n",
    "tt.toc()"
   ]
  },
  {
   "cell_type": "markdown",
   "metadata": {},
   "source": [
    "# Theoretical analysis with Uniform distribution scenario\n",
    "For the uniform distribution scenario, we also compute the theoretical expected number of time-steps for convergence, as reported (with the dashed blue line) in Fig.1.\n",
    "The results need to be approximated, as the sum would be to infinity. In our approximation, we stop at T=10^6."
   ]
  },
  {
   "cell_type": "code",
   "execution_count": null,
   "metadata": {},
   "outputs": [],
   "source": [
    "tt=TicToc()\n",
    "tt.tic()\n",
    "N = [10, 20, 30, 50, 70, 100, 150, 200, 500, 1000, 2000, 5000, 10000]\n",
    "maxT = 1000000\n",
    "expected_time = np.zeros(len(N))\n",
    "p_equilibrium = np.zeros(maxT)\n",
    "\n",
    "for n in range(len(N)):\n",
    "    coeff = (N[n]-2)/(N[n]-1)\n",
    "    temp  = 1\n",
    "    p_equilibrium[0] = 0\n",
    "    for t in range(1,maxT):\n",
    "        temp = temp*coeff\n",
    "        p_equilibrium[t] = (1-temp)**N[n]\n",
    "        expected_time[n] = expected_time[n] + t*(p_equilibrium[t]-p_equilibrium[t-1])\n",
    "print(expected_time)"
   ]
  },
  {
   "cell_type": "code",
   "execution_count": null,
   "metadata": {},
   "outputs": [],
   "source": []
  }
 ],
 "metadata": {
  "kernelspec": {
   "display_name": "Python 3",
   "language": "python",
   "name": "python3"
  },
  "language_info": {
   "codemirror_mode": {
    "name": "ipython",
    "version": 3
   },
   "file_extension": ".py",
   "mimetype": "text/x-python",
   "name": "python",
   "nbconvert_exporter": "python",
   "pygments_lexer": "ipython3",
   "version": "3.7.4"
  }
 },
 "nbformat": 4,
 "nbformat_minor": 4
}
