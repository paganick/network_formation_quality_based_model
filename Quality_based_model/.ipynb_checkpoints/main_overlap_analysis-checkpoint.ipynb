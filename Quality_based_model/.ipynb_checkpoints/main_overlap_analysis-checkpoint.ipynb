{
 "cells": [
  {
   "cell_type": "markdown",
   "metadata": {},
   "source": [
    "©2020-2021 ETH Zurich, Pagan Nicolò; D-ITET; Automatic Control Lab\n",
    "\n",
    "This program is free software: you can redistribute it and/or modify it under the terms of the GNU General Public License as published by the Free Software Foundation, either version 3 of the License, or (at your option) any later version.\n",
    "\n",
    "This program is distributed in the hope that it will be useful, but WITHOUT ANY WARRANTY; without even the implied warranty of MERCHANTABILITY or FITNESS FOR A PARTICULAR PURPOSE.  See the GNU General Public License for more details.\n",
    "\n",
    "You should have received a copy of the GNU General Public License along with this program.  If not, see <https://www.gnu.org/licenses/>."
   ]
  },
  {
   "cell_type": "code",
   "execution_count": null,
   "metadata": {},
   "outputs": [],
   "source": [
    "import matplotlib.pyplot as plt\n",
    "import os\n",
    "from pytictoc import TicToc\n",
    "import tikzplotlib\n",
    "\n",
    "from functions import *\n",
    "\n",
    "from simulation import Simulation, Simulation_parameters\n",
    "from model import Model, Model_parameters"
   ]
  },
  {
   "cell_type": "markdown",
   "metadata": {},
   "source": [
    "# Overlap Analysis\n",
    "In what follows, we provide the code for the numerical analysis on the overlap index. Here we run 10 simulations with 10^6 nodes. The results are those reported in Fig. 10a."
   ]
  },
  {
   "cell_type": "code",
   "execution_count": null,
   "metadata": {},
   "outputs": [],
   "source": [
    "np.random.seed(0)\n",
    "plt.rcParams[\"figure.figsize\"]=[10,7]\n",
    "tt=TicToc()\n",
    "tt.tic()\n",
    "N = [100]\n",
    "nsim = 10\n",
    "save_results = False\n",
    "model_verbose = False\n",
    "model_folder = 'average_overlap_analysis/'\n",
    "model_parameters = Model_parameters(N, nsim, save_results, model_folder, model_verbose)\n",
    "\n",
    "T = np.NaN\n",
    "pPA = 0.0\n",
    "speed_up = True\n",
    "simulation_verbose = False\n",
    "simulation_parameters = Simulation_parameters(T, pPA, speed_up, simulation_verbose)\n",
    "\n",
    "model = Model(model_parameters, simulation_parameters)\n",
    "model.run()\n",
    "\n",
    "# Defines how many row/columns are plotted for the Overlap matrix\n",
    "size = 10\n",
    "model.overlap_analysis(size)\n",
    "tt.toc()"
   ]
  },
  {
   "cell_type": "code",
   "execution_count": null,
   "metadata": {},
   "outputs": [],
   "source": [
    "np.random.seed(0)\n",
    "plt.rcParams[\"figure.figsize\"]=[10,7]\n",
    "tt=TicToc()\n",
    "tt.tic()\n",
    "N = [100000]\n",
    "nsim = 10\n",
    "save_results = True\n",
    "model_verbose = False\n",
    "model_folder = 'average_overlap_analysis/'\n",
    "model_parameters = Model_parameters(N, nsim, save_results, model_folder, model_verbose)\n",
    "\n",
    "T = np.NaN\n",
    "pPA = 0.0\n",
    "speed_up = True\n",
    "simulation_verbose = False\n",
    "simulation_parameters = Simulation_parameters(T, pPA, speed_up, simulation_verbose)\n",
    "\n",
    "model = Model(model_parameters, simulation_parameters)\n",
    "model.run()\n",
    "\n",
    "# Defines how many row/columns are plotted for the Overlap matrix\n",
    "size = 15\n",
    "model.overlap_analysis(size)\n",
    "tt.toc()"
   ]
  },
  {
   "cell_type": "code",
   "execution_count": null,
   "metadata": {},
   "outputs": [],
   "source": []
  }
 ],
 "metadata": {
  "kernelspec": {
   "display_name": "Python 3",
   "language": "python",
   "name": "python3"
  },
  "language_info": {
   "codemirror_mode": {
    "name": "ipython",
    "version": 3
   },
   "file_extension": ".py",
   "mimetype": "text/x-python",
   "name": "python",
   "nbconvert_exporter": "python",
   "pygments_lexer": "ipython3",
   "version": "3.7.4"
  }
 },
 "nbformat": 4,
 "nbformat_minor": 4
}
