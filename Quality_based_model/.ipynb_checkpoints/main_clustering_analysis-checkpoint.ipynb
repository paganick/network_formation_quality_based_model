{
 "cells": [
  {
   "cell_type": "markdown",
   "metadata": {},
   "source": [
    "©2020-2021 ETH Zurich, Pagan Nicolò; D-ITET; Automatic Control Lab\n",
    "\n",
    "This program is free software: you can redistribute it and/or modify it under the terms of the GNU General Public License as published by the Free Software Foundation, either version 3 of the License, or (at your option) any later version.\n",
    "\n",
    "This program is distributed in the hope that it will be useful, but WITHOUT ANY WARRANTY; without even the implied warranty of MERCHANTABILITY or FITNESS FOR A PARTICULAR PURPOSE.  See the GNU General Public License for more details.\n",
    "\n",
    "You should have received a copy of the GNU General Public License along with this program.  If not, see <https://www.gnu.org/licenses/>."
   ]
  },
  {
   "cell_type": "code",
   "execution_count": null,
   "metadata": {},
   "outputs": [],
   "source": [
    "import os\n",
    "from pytictoc import TicToc\n",
    "\n",
    "from functions import *\n",
    "\n",
    "from simulation import Simulation, Simulation_parameters\n",
    "from model import Model, Model_parameters"
   ]
  },
  {
   "cell_type": "markdown",
   "metadata": {},
   "source": [
    "# Clustering Analysis\n",
    "The following provides the code for the clustering analysis provided in Fig. 9 (right)."
   ]
  },
  {
   "cell_type": "markdown",
   "metadata": {},
   "source": [
    "In the first part, we consider networks of size up to 10^4 nodes. For each value of N, we run 100 simulations."
   ]
  },
  {
   "cell_type": "code",
   "execution_count": null,
   "metadata": {},
   "outputs": [],
   "source": [
    "np.random.seed(0)\n",
    "plt.rcParams[\"figure.figsize\"]=[10,7]\n",
    "\n",
    "tt=TicToc()\n",
    "tt.tic()\n",
    "N = [1000, 2000, 5000, 10000]\n",
    "nsim = 100\n",
    "save_results = True\n",
    "model_verbose = False\n",
    "model_folder = 'clustering_analysis/'\n",
    "model_parameters = Model_parameters(N, nsim, save_results, model_folder, model_verbose)\n",
    "\n",
    "T = np.NaN\n",
    "pPA = 0.0\n",
    "speed_up = True\n",
    "simulation_verbose = False\n",
    "simulation_parameters = Simulation_parameters(T, pPA, speed_up, simulation_verbose)\n",
    "\n",
    "model = Model(model_parameters, simulation_parameters)\n",
    "model.run()\n",
    "model.clustering_analysis()\n",
    "tt.toc()"
   ]
  },
  {
   "cell_type": "markdown",
   "metadata": {},
   "source": [
    "In the second part, we consider networks of size up to 10^6 nodes. For this, we only run 1 simulation for each value of N."
   ]
  },
  {
   "cell_type": "code",
   "execution_count": null,
   "metadata": {},
   "outputs": [],
   "source": [
    "np.random.seed(0)\n",
    "plt.rcParams[\"figure.figsize\"]=[10,7]\n",
    "\n",
    "tt=TicToc()\n",
    "tt.tic()\n",
    "N = [20000, 50000, 100000, 200000, 500000, 1000000]\n",
    "nsim = 1\n",
    "save_results = True\n",
    "model_verbose = False\n",
    "model_folder = 'clustering_analysis_large/'\n",
    "model_parameters = Model_parameters(N, nsim, save_results, model_folder, model_verbose)\n",
    "\n",
    "T = np.NaN\n",
    "pPA = 0.0\n",
    "speed_up = True\n",
    "simulation_verbose = False\n",
    "simulation_parameters = Simulation_parameters(T, pPA, speed_up, simulation_verbose)\n",
    "\n",
    "model = Model(model_parameters, simulation_parameters)\n",
    "model.run()\n",
    "model.clustering_analysis()\n",
    "tt.toc()"
   ]
  },
  {
   "cell_type": "markdown",
   "metadata": {},
   "source": [
    "# Comparison betwen different meeting distribution scenarios\n",
    "This part provides the simulations reported in Supplementary Fig. 4."
   ]
  },
  {
   "cell_type": "code",
   "execution_count": null,
   "metadata": {},
   "outputs": [],
   "source": [
    "np.random.seed(0)\n",
    "plt.rcParams[\"figure.figsize\"]=[10,7]\n",
    "\n",
    "tt=TicToc()\n",
    "tt.tic()\n",
    "N = [10, 20, 30, 50, 70, 100, 150, 200, 500, 1000]\n",
    "nsim = 1000\n",
    "save_results = True\n",
    "model_verbose = False\n",
    "model_folder = 'clustering_analysis_no_PA/'\n",
    "model_parameters = Model_parameters(N, nsim, save_results, model_folder, model_verbose)\n",
    "\n",
    "T = np.NaN\n",
    "pPA = 0.0\n",
    "speed_up = True\n",
    "simulation_verbose = False\n",
    "simulation_parameters = Simulation_parameters(T, pPA, speed_up, simulation_verbose)\n",
    "\n",
    "model = Model(model_parameters, simulation_parameters)\n",
    "model.run()\n",
    "model.clustering_analysis()\n",
    "tt.toc()"
   ]
  },
  {
   "cell_type": "code",
   "execution_count": null,
   "metadata": {},
   "outputs": [],
   "source": [
    "np.random.seed(0)\n",
    "plt.rcParams[\"figure.figsize\"]=[10,7]\n",
    "\n",
    "tt=TicToc()\n",
    "tt.tic()\n",
    "N = [10, 20, 30, 50, 70, 100, 150, 200, 500, 1000]\n",
    "nsim = 1000\n",
    "save_results = True\n",
    "model_verbose = False\n",
    "model_folder = 'clustering_analysis_PA/'\n",
    "model_parameters = Model_parameters(N, nsim, save_results, model_folder, model_verbose)\n",
    "\n",
    "T = np.NaN\n",
    "pPA = 1.0\n",
    "speed_up = False\n",
    "simulation_verbose = False\n",
    "simulation_parameters = Simulation_parameters(T, pPA, speed_up, simulation_verbose)\n",
    "\n",
    "model = Model(model_parameters, simulation_parameters)\n",
    "model.run()\n",
    "model.clustering_analysis()\n",
    "tt.toc()"
   ]
  },
  {
   "cell_type": "code",
   "execution_count": null,
   "metadata": {},
   "outputs": [],
   "source": [
    "np.random.seed(0)\n",
    "plt.rcParams[\"figure.figsize\"]=[10,7]\n",
    "\n",
    "tt=TicToc()\n",
    "tt.tic()\n",
    "N = [10, 20, 30, 50, 70, 100, 150, 200, 500, 1000]\n",
    "nsim = 1000\n",
    "save_results = True\n",
    "model_verbose = False\n",
    "model_folder = 'clustering_analysis_half_PA/'\n",
    "model_parameters = Model_parameters(N, nsim, save_results, model_folder, model_verbose)\n",
    "\n",
    "T = np.NaN\n",
    "pPA = 0.5\n",
    "speed_up = False\n",
    "simulation_verbose = False\n",
    "simulation_parameters = Simulation_parameters(T, pPA, speed_up, simulation_verbose)\n",
    "\n",
    "model = Model(model_parameters, simulation_parameters)\n",
    "model.run()\n",
    "model.clustering_analysis()\n",
    "tt.toc()"
   ]
  },
  {
   "cell_type": "code",
   "execution_count": null,
   "metadata": {},
   "outputs": [],
   "source": []
  }
 ],
 "metadata": {
  "kernelspec": {
   "display_name": "Python 3",
   "language": "python",
   "name": "python3"
  },
  "language_info": {
   "codemirror_mode": {
    "name": "ipython",
    "version": 3
   },
   "file_extension": ".py",
   "mimetype": "text/x-python",
   "name": "python",
   "nbconvert_exporter": "python",
   "pygments_lexer": "ipython3",
   "version": "3.7.4"
  }
 },
 "nbformat": 4,
 "nbformat_minor": 4
}
