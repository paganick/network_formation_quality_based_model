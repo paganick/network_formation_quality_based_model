{
 "cells": [
  {
   "cell_type": "markdown",
   "metadata": {},
   "source": [
    "©2020-2021 ETH Zurich, Pagan Nicolò; D-ITET; Automatic Control Lab\n",
    "\n",
    "This program is free software: you can redistribute it and/or modify it under the terms of the GNU General Public License as published by the Free Software Foundation, either version 3 of the License, or (at your option) any later version.\n",
    "\n",
    "This program is distributed in the hope that it will be useful, but WITHOUT ANY WARRANTY; without even the implied warranty of MERCHANTABILITY or FITNESS FOR A PARTICULAR PURPOSE.  See the GNU General Public License for more details.\n",
    "\n",
    "You should have received a copy of the GNU General Public License along with this program.  If not, see <https://www.gnu.org/licenses/>."
   ]
  },
  {
   "cell_type": "code",
   "execution_count": null,
   "metadata": {},
   "outputs": [],
   "source": [
    "import matplotlib.pyplot as plt\n",
    "import os\n",
    "from pytictoc import TicToc\n",
    "import tikzplotlib\n",
    "import scipy.special\n",
    "import math\n",
    "\n",
    "from functions import *\n",
    "from simulation import Simulation, Simulation_parameters\n",
    "from model import Model, Model_parameters"
   ]
  },
  {
   "cell_type": "markdown",
   "metadata": {},
   "source": [
    "# Out-degree fitting analysis\n",
    "In what follows, we provide the fitting analysis of the numerical out-degree distribution function. We use one simulation with 10^5 nodes. We first fit the data with a powerlaw and a lognormal distribution (the statistics for the fitting are printed)."
   ]
  },
  {
   "cell_type": "code",
   "execution_count": null,
   "metadata": {},
   "outputs": [],
   "source": [
    "np.random.seed(0)\n",
    "tt=TicToc()\n",
    "tt.tic()\n",
    "N = [100000]\n",
    "nsim = 1\n",
    "save_results = True\n",
    "model_verbose = False\n",
    "model_folder = 'numerical_outdegree_analysis_fitting/'\n",
    "model_parameters = Model_parameters(N, nsim, save_results, model_folder, model_verbose)\n",
    "\n",
    "T = np.NaN\n",
    "pPA = 0.0\n",
    "speed_up = True\n",
    "simulation_verbose = False\n",
    "simulation_parameters = Simulation_parameters(T, pPA, speed_up, simulation_verbose)\n",
    "\n",
    "model = Model(model_parameters, simulation_parameters)\n",
    "model.run()\n",
    "outdegrees, numerical_dist, fit_alpha, fit_loc, fit_beta, powerlawfit, lognormalfit, mu, sigma = model.fitting_outdegree_analysis()\n",
    "tt.toc()"
   ]
  },
  {
   "cell_type": "markdown",
   "metadata": {},
   "source": [
    "Then, we plot the numerical probability density function and the powerlaw and lognormal fits. We also fit it with a gamma distribution, and with a Poisson distribution. Results are shown in Supplementary Fig. 2 (left)."
   ]
  },
  {
   "cell_type": "code",
   "execution_count": null,
   "metadata": {},
   "outputs": [],
   "source": [
    "plt.rcParams[\"figure.figsize\"]=[10,7]\n",
    "n_tol = 50\n",
    "# Numerical distribution plot\n",
    "plt.scatter(range(min(N[0],n_tol)), numerical_dist.pdf(range(min(N[0],n_tol))), s=50, color='r', marker='o', label='Numerical data', alpha=0.5)\n",
    "\n",
    "# Powerlaw distribution fit\n",
    "powerlaw_fit_distribution = powerlaw.Power_Law(xmin=13, parameters=[powerlawfit[0].power_law.alpha], discrete=True) \n",
    "plt.loglog(range(int(powerlawfit[0].power_law.xmin),n_tol), powerlaw_fit_distribution.pdf(range(int(powerlawfit[0].power_law.xmin),n_tol)), color='b', label='fit pdf: alpha=' +str(powerlawfit[0].power_law.alpha)+' sigma='+str(powerlawfit[0].power_law.sigma)+' xmin='+str(int(powerlawfit[0].power_law.xmin)), alpha=0.5)\n",
    "\n",
    "# Lognormal distribution fit\n",
    "plt.plot(range(n_tol), lognormalfit[0].pdf(range(n_tol)), color='black', label='lognormal fit, mu='+str(mu[0])+' sigma='+str(sigma[0]), alpha=0.5)\n",
    "\n",
    "# Gamma distribution fit\n",
    "x = np.linspace(1,min(N[0],n_tol),min(N[0],n_tol))\n",
    "y = stats.gamma.pdf(x, fit_alpha, fit_loc, fit_beta)\n",
    "plt.plot(x, y, label='Fit with Gamma distribution, alpha='+str(fit_alpha)+'loc='+str(fit_loc)+'beta'+str(fit_beta))\n",
    "\n",
    "# Poisson distribution fit\n",
    "t = np.arange(0, min(N[0],n_tol), 1)\n",
    "expected_outdegree = compute_expected_outdegree(N[0])\n",
    "d = np.exp(-expected_outdegree[N[0]])*np.power(expected_outdegree[N[0]], t)/scipy.special.factorial(t)\n",
    "plt.plot( t, d, 'bs', label='Poisson')\n",
    "\n",
    "plt.xscale('log')\n",
    "plt.yscale('log')\n",
    "plt.xlim([1, n_tol])\n",
    "plt.ylim([10**(-10),0.3])\n",
    "\n",
    "plt.legend(loc=\"lower left\")\n",
    "if (save_results):\n",
    "     tikzplotlib.save(model_folder+'outdegree_distribution_fit.tikz',  table_row_sep='\\\\\\\\\\n')\n",
    "plt.show()"
   ]
  },
  {
   "cell_type": "markdown",
   "metadata": {},
   "source": [
    "For the same distributions (and fits) as above, we plot the complementary cumulative distribution functions. Results are reported in Supplementary Fig. 2 (right)."
   ]
  },
  {
   "cell_type": "code",
   "execution_count": null,
   "metadata": {},
   "outputs": [],
   "source": [
    "plt.rcParams[\"figure.figsize\"]=[10,7]\n",
    "n_tol = 50\n",
    "\n",
    "# Numerical distribution plot\n",
    "plt.scatter(range(min(N[0],n_tol)), 1-numerical_dist.cdf(range(min(N[0],n_tol))), s=25, color='r', marker='o', label='Numerical data', alpha=0.5)\n",
    "\n",
    "# Powerlaw fit\n",
    "powerlaw_fit_distribution = powerlaw.Power_Law(xmin=13, parameters=[powerlawfit[0].power_law.alpha], discrete=True) \n",
    "plt.plot(range(int(powerlawfit[0].power_law.xmin),n_tol), 1-powerlaw_fit_distribution.cdf(range(int(powerlawfit[0].power_law.xmin),n_tol)), color='b', label='fit pdf: alpha=' +str(powerlawfit[0].power_law.alpha)+' sigma='+str(powerlawfit[0].power_law.sigma)+' xmin='+str(int(powerlawfit[0].power_law.xmin)), alpha=0.5)\n",
    "\n",
    "# Lognormal fit\n",
    "plt.plot(range(n_tol), 1-lognormalfit[0].cdf(range(n_tol)), color='black', label='lognormal fit, mu='+str(mu[0])+' sigma='+str(sigma[0]), alpha=0.5)\n",
    "\n",
    "# Gamma distribution fit\n",
    "x = np.linspace(0,min(N[0],n_tol),min(N[0],n_tol)+1)\n",
    "y = stats.gamma.cdf(x, fit_alpha, fit_loc, fit_beta)\n",
    "plt.plot(x, 1-y, label='Fit with Gamma distribution, alpha='+str(fit_alpha)+'loc='+str(fit_loc)+', beta='+str(fit_beta))\n",
    "\n",
    "# Poisson distribution fit\n",
    "plt.plot( range(1,min(n_tol,N[0])+1), 1-np.cumsum(d), label='Poisson')\n",
    "\n",
    "plt.xlim([1, n_tol])\n",
    "plt.ylim([10**(-6),1])\n",
    "plt.xscale('log')\n",
    "plt.yscale('log')\n",
    "plt.legend(loc=\"upper right\")\n",
    "if (save_results):\n",
    "     tikzplotlib.save(model_folder+'outdegree_distribution_fit_ccfd.tikz',  table_row_sep='\\\\\\\\\\n')\n",
    "plt.show()"
   ]
  },
  {
   "cell_type": "markdown",
   "metadata": {},
   "source": [
    "Finally, we report some statistics of the fit with a gamma and a Poisson distribution."
   ]
  },
  {
   "cell_type": "code",
   "execution_count": null,
   "metadata": {},
   "outputs": [],
   "source": [
    "fit_alpha_alt, fit_loc_alt, fit_beta_alt=stats.gamma.fit(outdegrees, floc=0)\n",
    "print ('gamma fit data', str(fit_alpha_alt), str(fit_loc_alt), str(fit_beta_alt))\n",
    "print('gamma', stats.kstest(outdegrees, \"gamma\", args=(fit_alpha_alt, fit_loc_alt, fit_beta_alt))) \n",
    "print('poisson', stats.kstest(outdegrees, \"poisson\", args=(expected_outdegree[N[0]],0))) "
   ]
  },
  {
   "cell_type": "code",
   "execution_count": null,
   "metadata": {},
   "outputs": [],
   "source": []
  }
 ],
 "metadata": {
  "kernelspec": {
   "display_name": "Python 3",
   "language": "python",
   "name": "python3"
  },
  "language_info": {
   "codemirror_mode": {
    "name": "ipython",
    "version": 3
   },
   "file_extension": ".py",
   "mimetype": "text/x-python",
   "name": "python",
   "nbconvert_exporter": "python",
   "pygments_lexer": "ipython3",
   "version": "3.7.4"
  }
 },
 "nbformat": 4,
 "nbformat_minor": 4
}
