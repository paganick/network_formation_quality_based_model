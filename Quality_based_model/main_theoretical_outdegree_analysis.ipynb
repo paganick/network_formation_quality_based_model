{
 "cells": [
  {
   "cell_type": "markdown",
   "metadata": {},
   "source": [
    "©2020-2021 ETH Zurich, Pagan Nicolò; D-ITET; Automatic Control Lab\n",
    "\n",
    "This program is free software: you can redistribute it and/or modify it under the terms of the GNU General Public License as published by the Free Software Foundation, either version 3 of the License, or (at your option) any later version.\n",
    "\n",
    "This program is distributed in the hope that it will be useful, but WITHOUT ANY WARRANTY; without even the implied warranty of MERCHANTABILITY or FITNESS FOR A PARTICULAR PURPOSE.  See the GNU General Public License for more details.\n",
    "\n",
    "You should have received a copy of the GNU General Public License along with this program.  If not, see <https://www.gnu.org/licenses/>."
   ]
  },
  {
   "cell_type": "code",
   "execution_count": null,
   "metadata": {},
   "outputs": [],
   "source": [
    "import numpy as np\n",
    "import matplotlib.pyplot as plt\n",
    "import os\n",
    "from pytictoc import TicToc\n",
    "import tikzplotlib\n",
    "import random\n",
    "import csv\n",
    "\n",
    "from functions import *\n",
    "from simulation import Simulation, Simulation_parameters\n",
    "from model import Model, Model_parameters"
   ]
  },
  {
   "cell_type": "markdown",
   "metadata": {},
   "source": [
    "## Theoretical Outdegree Analysis"
   ]
  },
  {
   "cell_type": "markdown",
   "metadata": {},
   "source": [
    "Plot of the theoretical probability density function, as a function of the network size N, for different values of N. "
   ]
  },
  {
   "cell_type": "code",
   "execution_count": null,
   "metadata": {},
   "outputs": [],
   "source": [
    "random.seed(0)\n",
    "plt.rcParams[\"figure.figsize\"]=[10,7]\n",
    "tt=TicToc()\n",
    "tt.tic()\n",
    "N = [100, 1000, 10000, 100000, 1000000]\n",
    "maxN = max(N)\n",
    "# n_tol defines an approximation threshold: in the following the probability that a node has out-degree larger than n_tol is 0. In fact, the probability is typically\n",
    "# really small, yet non zero. In principle, a node can have an out-degree up to N-1, where N is the size of the network, however this happens with probability 1/(N-1)!\n",
    "# In practice, the probability for a node of having out-degree larger than n_tol can be assumed to be 0 for the following analysis.\n",
    "n_tol = 50\n",
    "\n",
    "folder = 'theoretical_outdegree_analysis/'\n",
    "save_results = True\n",
    "if not os.path.exists(folder):\n",
    "    os.makedirs(folder)\n",
    "\n",
    "\n",
    "outdegree_table, outdegree_table_cum = compute_outdegree_table_fast(maxN, n_tol)\n",
    "expected_outdegree = compute_expected_outdegree(maxN)\n",
    "sttdev_outdegree = compute_stddev_outdegree(maxN, outdegree_table, expected_outdegree, n_tol)\n",
    "\n",
    "for i in range(len(N)):\n",
    "    plt.plot(range(1,min(n_tol,N[i])), outdegree_table[N[i]-1, 1:min(n_tol,N[i])], label='N='+str(N[i]))\n",
    "plt.xscale('log')\n",
    "plt.yscale('log')\n",
    "plt.xlim([1, n_tol])\n",
    "plt.ylim([10**(-10),1])\n",
    "plt.xlabel('N')\n",
    "plt.ylabel('Outdegre pdf')\n",
    "plt.title('Theoretical Outdegree distributions')\n",
    "plt.legend(loc=\"upper right\")\n",
    "if (save_results):\n",
    "     tikzplotlib.save(folder+'theoretical_outdegree_distributions.tikz',  table_row_sep='\\\\\\\\\\n')\n",
    "plt.show() \n",
    "tt.toc()"
   ]
  },
  {
   "cell_type": "markdown",
   "metadata": {},
   "source": [
    "For the same values defined above, in what follow we provide th plot of the theoretical complementary cumulative distribution function, as a function of the network size N, for different values of N. \n",
    "The results are shown in Fig. 7a."
   ]
  },
  {
   "cell_type": "code",
   "execution_count": null,
   "metadata": {},
   "outputs": [],
   "source": [
    "for i in range(len(N)):\n",
    "    outdegree_table_ccdf = 1-np.cumsum(outdegree_table[N[i]-1,0:min(n_tol,N[i])-1])\n",
    "    plt.plot(range(1,min(n_tol,N[i])), outdegree_table_ccdf[0:min(n_tol,N[i])-1], label='N='+str(N[i]))\n",
    "plt.xscale('log')\n",
    "plt.yscale('log')\n",
    "plt.xlim([1, 50])\n",
    "plt.ylim([10**(-8),2])\n",
    "plt.xlabel('N')\n",
    "plt.ylabel('Outdegre ccdf')\n",
    "plt.title('Theoretical Outdegree distributions')\n",
    "plt.legend(loc=\"lower left\")\n",
    "if (save_results):\n",
    "     tikzplotlib.save(folder+'theoretical_outdegree_distributions_ccdf.tikz', table_row_sep='\\\\\\\\\\n')\n",
    "plt.show()  "
   ]
  },
  {
   "cell_type": "markdown",
   "metadata": {},
   "source": [
    "In the following, we compute and plot the expected out-degree as a function of the network size N. The results are shown in Fig. 7b."
   ]
  },
  {
   "cell_type": "code",
   "execution_count": null,
   "metadata": {},
   "outputs": [],
   "source": [
    "n = np.linspace(10,maxN,200, dtype=np.int64)\n",
    "plt.errorbar(n, expected_outdegree[n-1], sttdev_outdegree[n-1], linestyle='None', marker='^', alpha=0.1)\n",
    "plt.plot(n, np.log(n)/np.log(2), label='Log(2)');\n",
    "plt.legend(loc=\"upper right\")\n",
    "plt.xlabel('N')\n",
    "plt.ylabel('Expected Outdegree')\n",
    "plt.title('Expected Outdegree')\n",
    "if (save_results):\n",
    "    with open(folder+'expected_outdegree.dat', 'w') as f:\n",
    "        writer = csv.writer(f, delimiter='\\t')\n",
    "        writer.writerows(zip(n,expected_outdegree[n-1],sttdev_outdegree[n-1],sttdev_outdegree[n-1]))\n",
    "    tikzplotlib.save(folder+'expected_outdegree.tikz',  table_row_sep='\\\\\\\\\\n')\n",
    "plt.show()"
   ]
  }
 ],
 "metadata": {
  "kernelspec": {
   "display_name": "Python 3",
   "language": "python",
   "name": "python3"
  },
  "language_info": {
   "codemirror_mode": {
    "name": "ipython",
    "version": 3
   },
   "file_extension": ".py",
   "mimetype": "text/x-python",
   "name": "python",
   "nbconvert_exporter": "python",
   "pygments_lexer": "ipython3",
   "version": "3.7.4"
  }
 },
 "nbformat": 4,
 "nbformat_minor": 4
}
