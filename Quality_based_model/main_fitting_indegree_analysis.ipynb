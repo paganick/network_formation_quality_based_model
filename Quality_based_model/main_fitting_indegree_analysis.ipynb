{
 "cells": [
  {
   "cell_type": "markdown",
   "metadata": {},
   "source": [
    "©2020-2021 ETH Zurich, Pagan Nicolò; D-ITET; Automatic Control Lab\n",
    "\n",
    "This program is free software: you can redistribute it and/or modify it under the terms of the GNU General Public License as published by the Free Software Foundation, either version 3 of the License, or (at your option) any later version.\n",
    "\n",
    "This program is distributed in the hope that it will be useful, but WITHOUT ANY WARRANTY; without even the implied warranty of MERCHANTABILITY or FITNESS FOR A PARTICULAR PURPOSE.  See the GNU General Public License for more details.\n",
    "\n",
    "You should have received a copy of the GNU General Public License along with this program.  If not, see <https://www.gnu.org/licenses/>."
   ]
  },
  {
   "cell_type": "code",
   "execution_count": null,
   "metadata": {},
   "outputs": [],
   "source": [
    "import matplotlib.pyplot as plt\n",
    "import os\n",
    "from pytictoc import TicToc\n",
    "import tikzplotlib\n",
    "\n",
    "from functions import *\n",
    "from simulation import Simulation, Simulation_parameters\n",
    "from model import Model, Model_parameters"
   ]
  },
  {
   "cell_type": "markdown",
   "metadata": {},
   "source": [
    "# In-degree probability density function, fitting analysis.\n",
    "In the following, we compute the best power-law and log-normal fit of the numerical pdf obtained from 1000 simulations with 1000 nodes. The results, reported in Fig. 5, 6b, and Supplementary Fig. 1 (right column), refer to the three different meeting distribution scenarios. In order, we have:\n",
    "1) uniform distribution\n",
    "2) pure preferential attachment\n",
    "3) mixed"
   ]
  },
  {
   "cell_type": "markdown",
   "metadata": {},
   "source": [
    "### Uniform distribution"
   ]
  },
  {
   "cell_type": "code",
   "execution_count": null,
   "metadata": {},
   "outputs": [],
   "source": [
    "np.random.seed(0)\n",
    "plt.rcParams[\"figure.figsize\"]=[10,7]\n",
    "tt=TicToc()\n",
    "tt.tic()\n",
    "N = [1000]\n",
    "nsim = 1000\n",
    "save_results = True\n",
    "model_verbose = False\n",
    "model_folder = 'fitting_indegree_analysis_1000/'\n",
    "model_parameters = Model_parameters(N, nsim, save_results, model_folder, model_verbose)\n",
    "\n",
    "T = np.NaN\n",
    "pPA = 0.0\n",
    "speed_up = True\n",
    "simulation_verbose = False\n",
    "simulation_parameters = Simulation_parameters(T, pPA, speed_up, simulation_verbose)\n",
    "\n",
    "model = Model(model_parameters, simulation_parameters)\n",
    "model.run()\n",
    "model.fitting_indegree_analysis()\n",
    "model.compare_fit_distribution('lognormal')\n",
    "model.indegree_analysis_plot([2, 2], [10**(-12), 10**-6])\n",
    "tt.toc()"
   ]
  },
  {
   "cell_type": "markdown",
   "metadata": {},
   "source": [
    "### Pure preferential attachment"
   ]
  },
  {
   "cell_type": "code",
   "execution_count": null,
   "metadata": {},
   "outputs": [],
   "source": [
    "np.random.seed(0)\n",
    "plt.rcParams[\"figure.figsize\"]=[10,7]\n",
    "tt=TicToc()\n",
    "tt.tic()\n",
    "N = [1000]\n",
    "nsim = 1000\n",
    "save_results = True\n",
    "model_verbose = False\n",
    "model_folder = 'fitting_indegree_analysis_PA_1000/'\n",
    "model_parameters = Model_parameters(N, nsim, save_results, model_folder, model_verbose)\n",
    "\n",
    "T = np.NaN\n",
    "pPA = 1.0\n",
    "speed_up = False\n",
    "simulation_verbose = False\n",
    "simulation_parameters = Simulation_parameters(T, pPA, speed_up, simulation_verbose)\n",
    "\n",
    "model = Model(model_parameters, simulation_parameters)\n",
    "model.run()\n",
    "model.fitting_indegree_analysis()\n",
    "model.compare_fit_distribution('lognormal')\n",
    "model.indegree_analysis_plot([2, 2], [10**(-12), 10**-6])\n",
    "tt.toc()"
   ]
  },
  {
   "cell_type": "markdown",
   "metadata": {},
   "source": [
    "### Mixed"
   ]
  },
  {
   "cell_type": "code",
   "execution_count": null,
   "metadata": {},
   "outputs": [],
   "source": [
    "np.random.seed(0)\n",
    "plt.rcParams[\"figure.figsize\"]=[10,7]\n",
    "tt=TicToc()\n",
    "tt.tic()\n",
    "N = [1000]\n",
    "nsim = 1000\n",
    "save_results = True\n",
    "model_verbose = False\n",
    "model_folder = 'fitting_indegree_analysis_1000_half_PA/'\n",
    "model_parameters = Model_parameters(N, nsim, save_results, model_folder, model_verbose)\n",
    "\n",
    "T = np.NaN\n",
    "pPA = 0.5\n",
    "speed_up = False\n",
    "simulation_verbose = False\n",
    "simulation_parameters = Simulation_parameters(T, pPA, speed_up, simulation_verbose)\n",
    "\n",
    "model = Model(model_parameters, simulation_parameters)\n",
    "model.run()\n",
    "model.fitting_indegree_analysis()\n",
    "model.compare_fit_distribution('lognormal')\n",
    "model.indegree_analysis_plot([2, 2], [10**(-12), 10**-6])\n",
    "tt.toc()"
   ]
  },
  {
   "cell_type": "markdown",
   "metadata": {},
   "source": [
    "# Logarithmic binning \n",
    "In the following, we compute the fit of the numerical pdf of the in-degree, obtained by logarithmically binning the data. The numerical data are obtained from 1000 simulations with 1000 nodes.\n",
    "The result of this plot are reported in Fig. 5 (in black)."
   ]
  },
  {
   "cell_type": "code",
   "execution_count": null,
   "metadata": {},
   "outputs": [],
   "source": [
    "np.random.seed(0)\n",
    "plt.rcParams[\"figure.figsize\"]=[10,7]\n",
    "tt=TicToc()\n",
    "tt.tic()\n",
    "N = [1000]\n",
    "nsim = 1000\n",
    "save_results = True\n",
    "model_verbose = False\n",
    "model_folder = 'binned_hist_pdf_1000/'\n",
    "model_parameters = Model_parameters(N, nsim, save_results, model_folder, model_verbose)\n",
    "\n",
    "T = np.NaN\n",
    "pPA = 0.0\n",
    "speed_up = True\n",
    "simulation_verbose = False\n",
    "simulation_parameters = Simulation_parameters(T, pPA, speed_up, simulation_verbose)\n",
    "\n",
    "model = Model(model_parameters, simulation_parameters)\n",
    "model.run()\n",
    "model.compute_indegrees()\n",
    "n_bins = 15\n",
    "model.plot_binned_hist_pdf(n_bins)\n",
    "tt.toc()"
   ]
  },
  {
   "cell_type": "code",
   "execution_count": null,
   "metadata": {},
   "outputs": [],
   "source": []
  }
 ],
 "metadata": {
  "kernelspec": {
   "display_name": "Python 3",
   "language": "python",
   "name": "python3"
  },
  "language_info": {
   "codemirror_mode": {
    "name": "ipython",
    "version": 3
   },
   "file_extension": ".py",
   "mimetype": "text/x-python",
   "name": "python",
   "nbconvert_exporter": "python",
   "pygments_lexer": "ipython3",
   "version": "3.7.4"
  }
 },
 "nbformat": 4,
 "nbformat_minor": 4
}
